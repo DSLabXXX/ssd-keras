{
 "cells": [
  {
   "cell_type": "code",
   "execution_count": 1,
   "metadata": {
    "collapsed": true
   },
   "outputs": [
    {
     "name": "stdout",
     "output_type": "stream",
     "text": [
      "0\n1\n2\n3\n4\n"
     ]
    }
   ],
   "source": [
    "import queue\n",
    "\n",
    "q = queue.Queue()\n",
    "\n",
    "for i in range(5):\n",
    "    q.put(i)\n",
    "\n",
    "while not q.empty():\n",
    "    print(q.get())"
   ]
  },
  {
   "cell_type": "code",
   "execution_count": 1,
   "metadata": {},
   "outputs": [
    {
     "name": "stdout",
     "output_type": "stream",
     "text": [
      "0: Looking for the next enclosure1: Looking for the next enclosure\n\n"
     ]
    },
    {
     "name": "stdout",
     "output_type": "stream",
     "text": [
      "*** Main thread waiting\n*** Done\n"
     ]
    }
   ],
   "source": [
    "# System modules\n",
    "from queue import Queue\n",
    "from threading import Thread\n",
    "import time\n",
    "\n",
    "# Local modules\n",
    "import feedparser\n",
    "\n",
    "# Set up some global variables\n",
    "num_fetch_threads = 2\n",
    "enclosure_queue = Queue()\n",
    "\n",
    "# A real app wouldn't use hard-coded data...\n",
    "feed_urls = [ 'http://www.castsampler.com/cast/feed/rss/guest',]\n",
    "\n",
    "\n",
    "def downloadEnclosures(i, q):\n",
    "    \"\"\"This is the worker thread function.\n",
    "    It processes items in the queue one after\n",
    "    another.  These daemon threads go into an\n",
    "    infinite loop, and only exit when\n",
    "    the main thread ends.\n",
    "    \"\"\"\n",
    "    while True:\n",
    "        print('%s: Looking for the next enclosure' % i)\n",
    "        url = q.get()\n",
    "        print('%s: Downloading:' % i, url)\n",
    "        # instead of really downloading the URL,\n",
    "        # we just pretend and sleep\n",
    "        time.sleep(i + 2)\n",
    "        q.task_done()\n",
    "\n",
    "\n",
    "# Set up some threads to fetch the enclosures\n",
    "for i in range(num_fetch_threads):\n",
    "    worker = Thread(target=downloadEnclosures, args=(i, enclosure_queue,))\n",
    "    worker.setDaemon(True)\n",
    "    worker.start()\n",
    "\n",
    "# Download the feed(s) and put the enclosure URLs into\n",
    "# the queue.\n",
    "for url in feed_urls:\n",
    "    response = feedparser.parse(url, agent='fetch_podcasts.py')\n",
    "    for entry in response['entries']:\n",
    "        for enclosure in entry.get('enclosures', []):\n",
    "            print('Queuing:', enclosure['url'])\n",
    "            enclosure_queue.put(enclosure['url'])\n",
    "        \n",
    "# Now wait for the queue to be empty, indicating that we have\n",
    "# processed all of the downloads.\n",
    "print('*** Main thread waiting')\n",
    "enclosure_queue.join()\n",
    "print('*** Done')"
   ]
  },
  {
   "cell_type": "code",
   "execution_count": 1,
   "metadata": {},
   "outputs": [],
   "source": [
    "from queue import Queue\n",
    "q = Queue()\n",
    "q.put(\"A\")"
   ]
  },
  {
   "cell_type": "code",
   "execution_count": 2,
   "metadata": {},
   "outputs": [
    {
     "data": {
      "text/plain": [
       "'A'"
      ]
     },
     "execution_count": 2,
     "metadata": {},
     "output_type": "execute_result"
    }
   ],
   "source": [
    "q.get()"
   ]
  },
  {
   "cell_type": "code",
   "execution_count": null,
   "metadata": {},
   "outputs": [],
   "source": [
    ""
   ]
  }
 ],
 "metadata": {
  "kernelspec": {
   "display_name": "Python 2",
   "language": "python",
   "name": "python2"
  },
  "language_info": {
   "codemirror_mode": {
    "name": "ipython",
    "version": 2.0
   },
   "file_extension": ".py",
   "mimetype": "text/x-python",
   "name": "python",
   "nbconvert_exporter": "python",
   "pygments_lexer": "ipython2",
   "version": "2.7.6"
  }
 },
 "nbformat": 4,
 "nbformat_minor": 0
}